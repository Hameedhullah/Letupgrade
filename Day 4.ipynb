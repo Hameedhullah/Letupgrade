{
 "cells": [
  {
   "cell_type": "markdown",
   "metadata": {},
   "source": [
    "# Assignment 1"
   ]
  },
  {
   "cell_type": "code",
   "execution_count": null,
   "metadata": {},
   "outputs": [
    {
     "name": "stdout",
     "output_type": "stream",
     "text": [
      "Enter the num1: 1042000\n",
      "Enter the num2: 702648265\n",
      "1741725\n",
      "4210818\n"
     ]
    }
   ],
   "source": [
    "num1 = int(input(\"Enter the num1: \"))\n",
    "num2 = int(input(\"Enter the num2: \"))\n",
    "\n",
    "for number in range(num1,num2+1):\n",
    "    sum = 0\n",
    "    times = 0\n",
    "    \n",
    "    temp = number\n",
    "    while temp > 0:\n",
    "        times = times + 1\n",
    "        temp = temp//10\n",
    "        \n",
    "    temp = number\n",
    "    while temp > 0:\n",
    "        remainder = temp % 10\n",
    "        sum = sum + (remainder ** times)\n",
    "        temp //= 10\n",
    "    if number == sum:\n",
    "            print(number)"
   ]
  },
  {
   "cell_type": "code",
   "execution_count": null,
   "metadata": {},
   "outputs": [],
   "source": []
  }
 ],
 "metadata": {
  "kernelspec": {
   "display_name": "Python 3",
   "language": "python",
   "name": "python3"
  },
  "language_info": {
   "codemirror_mode": {
    "name": "ipython",
    "version": 3
   },
   "file_extension": ".py",
   "mimetype": "text/x-python",
   "name": "python",
   "nbconvert_exporter": "python",
   "pygments_lexer": "ipython3",
   "version": "3.7.6"
  }
 },
 "nbformat": 4,
 "nbformat_minor": 4
}
